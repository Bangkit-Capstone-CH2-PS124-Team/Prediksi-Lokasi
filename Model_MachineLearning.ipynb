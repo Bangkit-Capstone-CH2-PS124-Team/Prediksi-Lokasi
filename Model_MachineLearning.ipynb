{
  "cells": [
    {
      "cell_type": "markdown",
      "metadata": {
        "id": "kKNpK0Y80R1Y"
      },
      "source": [
        "# **Prediksi Lokasi**"
      ]
    },
    {
      "cell_type": "code",
      "execution_count": null,
      "metadata": {
        "id": "svtOojBz0IAx"
      },
      "outputs": [],
      "source": [
        "import pandas as pd\n",
        "import numpy as np\n",
        "import tensorflow as tf\n",
        "from sklearn.model_selection import train_test_split\n",
        "from sklearn.preprocessing import LabelEncoder"
      ]
    },
    {
      "cell_type": "code",
      "execution_count": null,
      "metadata": {
        "id": "ftbyVyJM0Q3Z",
        "colab": {
          "base_uri": "https://localhost:8080/",
          "height": 206
        },
        "outputId": "f67b9af5-ae82-4c5d-b543-be89195eb0cd"
      },
      "outputs": [
        {
          "output_type": "execute_result",
          "data": {
            "text/plain": [
              "  nama_pedagang alamat_lokasi_dagang jenis_dagangan      latitude  \\\n",
              "0    MASRI IMAI            JL. TAWES    NON KULINER  -006,1122794   \n",
              "1         RAKIM            JL. TAWES    NON KULINER  -006,1122794   \n",
              "2         ABUNG            JL. TAWES    NON KULINER  -006,1122794   \n",
              "3         SARAH            JL. TAWES        KULINER  -006,1122794   \n",
              "4   SRI HARTATI            JL. TAWES    NON KULINER  -006,1122794   \n",
              "\n",
              "      longitude        wilayah  \n",
              "0  0106,8823569  Jakarta Utara  \n",
              "1  0106,8823569  Jakarta Utara  \n",
              "2  0106,8823569  Jakarta Utara  \n",
              "3  0106,8823569  Jakarta Utara  \n",
              "4  0106,8823569  Jakarta Utara  "
            ],
            "text/html": [
              "\n",
              "  <div id=\"df-96d5d43b-444c-4390-ad27-567e493562bc\" class=\"colab-df-container\">\n",
              "    <div>\n",
              "<style scoped>\n",
              "    .dataframe tbody tr th:only-of-type {\n",
              "        vertical-align: middle;\n",
              "    }\n",
              "\n",
              "    .dataframe tbody tr th {\n",
              "        vertical-align: top;\n",
              "    }\n",
              "\n",
              "    .dataframe thead th {\n",
              "        text-align: right;\n",
              "    }\n",
              "</style>\n",
              "<table border=\"1\" class=\"dataframe\">\n",
              "  <thead>\n",
              "    <tr style=\"text-align: right;\">\n",
              "      <th></th>\n",
              "      <th>nama_pedagang</th>\n",
              "      <th>alamat_lokasi_dagang</th>\n",
              "      <th>jenis_dagangan</th>\n",
              "      <th>latitude</th>\n",
              "      <th>longitude</th>\n",
              "      <th>wilayah</th>\n",
              "    </tr>\n",
              "  </thead>\n",
              "  <tbody>\n",
              "    <tr>\n",
              "      <th>0</th>\n",
              "      <td>MASRI IMAI</td>\n",
              "      <td>JL. TAWES</td>\n",
              "      <td>NON KULINER</td>\n",
              "      <td>-006,1122794</td>\n",
              "      <td>0106,8823569</td>\n",
              "      <td>Jakarta Utara</td>\n",
              "    </tr>\n",
              "    <tr>\n",
              "      <th>1</th>\n",
              "      <td>RAKIM</td>\n",
              "      <td>JL. TAWES</td>\n",
              "      <td>NON KULINER</td>\n",
              "      <td>-006,1122794</td>\n",
              "      <td>0106,8823569</td>\n",
              "      <td>Jakarta Utara</td>\n",
              "    </tr>\n",
              "    <tr>\n",
              "      <th>2</th>\n",
              "      <td>ABUNG</td>\n",
              "      <td>JL. TAWES</td>\n",
              "      <td>NON KULINER</td>\n",
              "      <td>-006,1122794</td>\n",
              "      <td>0106,8823569</td>\n",
              "      <td>Jakarta Utara</td>\n",
              "    </tr>\n",
              "    <tr>\n",
              "      <th>3</th>\n",
              "      <td>SARAH</td>\n",
              "      <td>JL. TAWES</td>\n",
              "      <td>KULINER</td>\n",
              "      <td>-006,1122794</td>\n",
              "      <td>0106,8823569</td>\n",
              "      <td>Jakarta Utara</td>\n",
              "    </tr>\n",
              "    <tr>\n",
              "      <th>4</th>\n",
              "      <td>SRI HARTATI</td>\n",
              "      <td>JL. TAWES</td>\n",
              "      <td>NON KULINER</td>\n",
              "      <td>-006,1122794</td>\n",
              "      <td>0106,8823569</td>\n",
              "      <td>Jakarta Utara</td>\n",
              "    </tr>\n",
              "  </tbody>\n",
              "</table>\n",
              "</div>\n",
              "    <div class=\"colab-df-buttons\">\n",
              "\n",
              "  <div class=\"colab-df-container\">\n",
              "    <button class=\"colab-df-convert\" onclick=\"convertToInteractive('df-96d5d43b-444c-4390-ad27-567e493562bc')\"\n",
              "            title=\"Convert this dataframe to an interactive table.\"\n",
              "            style=\"display:none;\">\n",
              "\n",
              "  <svg xmlns=\"http://www.w3.org/2000/svg\" height=\"24px\" viewBox=\"0 -960 960 960\">\n",
              "    <path d=\"M120-120v-720h720v720H120Zm60-500h600v-160H180v160Zm220 220h160v-160H400v160Zm0 220h160v-160H400v160ZM180-400h160v-160H180v160Zm440 0h160v-160H620v160ZM180-180h160v-160H180v160Zm440 0h160v-160H620v160Z\"/>\n",
              "  </svg>\n",
              "    </button>\n",
              "\n",
              "  <style>\n",
              "    .colab-df-container {\n",
              "      display:flex;\n",
              "      gap: 12px;\n",
              "    }\n",
              "\n",
              "    .colab-df-convert {\n",
              "      background-color: #E8F0FE;\n",
              "      border: none;\n",
              "      border-radius: 50%;\n",
              "      cursor: pointer;\n",
              "      display: none;\n",
              "      fill: #1967D2;\n",
              "      height: 32px;\n",
              "      padding: 0 0 0 0;\n",
              "      width: 32px;\n",
              "    }\n",
              "\n",
              "    .colab-df-convert:hover {\n",
              "      background-color: #E2EBFA;\n",
              "      box-shadow: 0px 1px 2px rgba(60, 64, 67, 0.3), 0px 1px 3px 1px rgba(60, 64, 67, 0.15);\n",
              "      fill: #174EA6;\n",
              "    }\n",
              "\n",
              "    .colab-df-buttons div {\n",
              "      margin-bottom: 4px;\n",
              "    }\n",
              "\n",
              "    [theme=dark] .colab-df-convert {\n",
              "      background-color: #3B4455;\n",
              "      fill: #D2E3FC;\n",
              "    }\n",
              "\n",
              "    [theme=dark] .colab-df-convert:hover {\n",
              "      background-color: #434B5C;\n",
              "      box-shadow: 0px 1px 3px 1px rgba(0, 0, 0, 0.15);\n",
              "      filter: drop-shadow(0px 1px 2px rgba(0, 0, 0, 0.3));\n",
              "      fill: #FFFFFF;\n",
              "    }\n",
              "  </style>\n",
              "\n",
              "    <script>\n",
              "      const buttonEl =\n",
              "        document.querySelector('#df-96d5d43b-444c-4390-ad27-567e493562bc button.colab-df-convert');\n",
              "      buttonEl.style.display =\n",
              "        google.colab.kernel.accessAllowed ? 'block' : 'none';\n",
              "\n",
              "      async function convertToInteractive(key) {\n",
              "        const element = document.querySelector('#df-96d5d43b-444c-4390-ad27-567e493562bc');\n",
              "        const dataTable =\n",
              "          await google.colab.kernel.invokeFunction('convertToInteractive',\n",
              "                                                    [key], {});\n",
              "        if (!dataTable) return;\n",
              "\n",
              "        const docLinkHtml = 'Like what you see? Visit the ' +\n",
              "          '<a target=\"_blank\" href=https://colab.research.google.com/notebooks/data_table.ipynb>data table notebook</a>'\n",
              "          + ' to learn more about interactive tables.';\n",
              "        element.innerHTML = '';\n",
              "        dataTable['output_type'] = 'display_data';\n",
              "        await google.colab.output.renderOutput(dataTable, element);\n",
              "        const docLink = document.createElement('div');\n",
              "        docLink.innerHTML = docLinkHtml;\n",
              "        element.appendChild(docLink);\n",
              "      }\n",
              "    </script>\n",
              "  </div>\n",
              "\n",
              "\n",
              "<div id=\"df-29465f9c-a71b-476f-8ce7-5347f7d2efb2\">\n",
              "  <button class=\"colab-df-quickchart\" onclick=\"quickchart('df-29465f9c-a71b-476f-8ce7-5347f7d2efb2')\"\n",
              "            title=\"Suggest charts\"\n",
              "            style=\"display:none;\">\n",
              "\n",
              "<svg xmlns=\"http://www.w3.org/2000/svg\" height=\"24px\"viewBox=\"0 0 24 24\"\n",
              "     width=\"24px\">\n",
              "    <g>\n",
              "        <path d=\"M19 3H5c-1.1 0-2 .9-2 2v14c0 1.1.9 2 2 2h14c1.1 0 2-.9 2-2V5c0-1.1-.9-2-2-2zM9 17H7v-7h2v7zm4 0h-2V7h2v10zm4 0h-2v-4h2v4z\"/>\n",
              "    </g>\n",
              "</svg>\n",
              "  </button>\n",
              "\n",
              "<style>\n",
              "  .colab-df-quickchart {\n",
              "      --bg-color: #E8F0FE;\n",
              "      --fill-color: #1967D2;\n",
              "      --hover-bg-color: #E2EBFA;\n",
              "      --hover-fill-color: #174EA6;\n",
              "      --disabled-fill-color: #AAA;\n",
              "      --disabled-bg-color: #DDD;\n",
              "  }\n",
              "\n",
              "  [theme=dark] .colab-df-quickchart {\n",
              "      --bg-color: #3B4455;\n",
              "      --fill-color: #D2E3FC;\n",
              "      --hover-bg-color: #434B5C;\n",
              "      --hover-fill-color: #FFFFFF;\n",
              "      --disabled-bg-color: #3B4455;\n",
              "      --disabled-fill-color: #666;\n",
              "  }\n",
              "\n",
              "  .colab-df-quickchart {\n",
              "    background-color: var(--bg-color);\n",
              "    border: none;\n",
              "    border-radius: 50%;\n",
              "    cursor: pointer;\n",
              "    display: none;\n",
              "    fill: var(--fill-color);\n",
              "    height: 32px;\n",
              "    padding: 0;\n",
              "    width: 32px;\n",
              "  }\n",
              "\n",
              "  .colab-df-quickchart:hover {\n",
              "    background-color: var(--hover-bg-color);\n",
              "    box-shadow: 0 1px 2px rgba(60, 64, 67, 0.3), 0 1px 3px 1px rgba(60, 64, 67, 0.15);\n",
              "    fill: var(--button-hover-fill-color);\n",
              "  }\n",
              "\n",
              "  .colab-df-quickchart-complete:disabled,\n",
              "  .colab-df-quickchart-complete:disabled:hover {\n",
              "    background-color: var(--disabled-bg-color);\n",
              "    fill: var(--disabled-fill-color);\n",
              "    box-shadow: none;\n",
              "  }\n",
              "\n",
              "  .colab-df-spinner {\n",
              "    border: 2px solid var(--fill-color);\n",
              "    border-color: transparent;\n",
              "    border-bottom-color: var(--fill-color);\n",
              "    animation:\n",
              "      spin 1s steps(1) infinite;\n",
              "  }\n",
              "\n",
              "  @keyframes spin {\n",
              "    0% {\n",
              "      border-color: transparent;\n",
              "      border-bottom-color: var(--fill-color);\n",
              "      border-left-color: var(--fill-color);\n",
              "    }\n",
              "    20% {\n",
              "      border-color: transparent;\n",
              "      border-left-color: var(--fill-color);\n",
              "      border-top-color: var(--fill-color);\n",
              "    }\n",
              "    30% {\n",
              "      border-color: transparent;\n",
              "      border-left-color: var(--fill-color);\n",
              "      border-top-color: var(--fill-color);\n",
              "      border-right-color: var(--fill-color);\n",
              "    }\n",
              "    40% {\n",
              "      border-color: transparent;\n",
              "      border-right-color: var(--fill-color);\n",
              "      border-top-color: var(--fill-color);\n",
              "    }\n",
              "    60% {\n",
              "      border-color: transparent;\n",
              "      border-right-color: var(--fill-color);\n",
              "    }\n",
              "    80% {\n",
              "      border-color: transparent;\n",
              "      border-right-color: var(--fill-color);\n",
              "      border-bottom-color: var(--fill-color);\n",
              "    }\n",
              "    90% {\n",
              "      border-color: transparent;\n",
              "      border-bottom-color: var(--fill-color);\n",
              "    }\n",
              "  }\n",
              "</style>\n",
              "\n",
              "  <script>\n",
              "    async function quickchart(key) {\n",
              "      const quickchartButtonEl =\n",
              "        document.querySelector('#' + key + ' button');\n",
              "      quickchartButtonEl.disabled = true;  // To prevent multiple clicks.\n",
              "      quickchartButtonEl.classList.add('colab-df-spinner');\n",
              "      try {\n",
              "        const charts = await google.colab.kernel.invokeFunction(\n",
              "            'suggestCharts', [key], {});\n",
              "      } catch (error) {\n",
              "        console.error('Error during call to suggestCharts:', error);\n",
              "      }\n",
              "      quickchartButtonEl.classList.remove('colab-df-spinner');\n",
              "      quickchartButtonEl.classList.add('colab-df-quickchart-complete');\n",
              "    }\n",
              "    (() => {\n",
              "      let quickchartButtonEl =\n",
              "        document.querySelector('#df-29465f9c-a71b-476f-8ce7-5347f7d2efb2 button');\n",
              "      quickchartButtonEl.style.display =\n",
              "        google.colab.kernel.accessAllowed ? 'block' : 'none';\n",
              "    })();\n",
              "  </script>\n",
              "</div>\n",
              "    </div>\n",
              "  </div>\n"
            ]
          },
          "metadata": {},
          "execution_count": 2
        }
      ],
      "source": [
        "# Load data\n",
        "data = pd.read_csv('/content/Data_Cleaning - Sheet1.csv')\n",
        "\n",
        "data.head()"
      ]
    },
    {
      "cell_type": "code",
      "source": [
        "data.info()"
      ],
      "metadata": {
        "colab": {
          "base_uri": "https://localhost:8080/"
        },
        "id": "gEtQGfhCokCO",
        "outputId": "0a48667d-517f-47a3-a81a-5f81f3773703"
      },
      "execution_count": null,
      "outputs": [
        {
          "output_type": "stream",
          "name": "stdout",
          "text": [
            "<class 'pandas.core.frame.DataFrame'>\n",
            "RangeIndex: 1454 entries, 0 to 1453\n",
            "Data columns (total 6 columns):\n",
            " #   Column                Non-Null Count  Dtype \n",
            "---  ------                --------------  ----- \n",
            " 0   nama_pedagang         1454 non-null   object\n",
            " 1   alamat_lokasi_dagang  1454 non-null   object\n",
            " 2   jenis_dagangan        1454 non-null   object\n",
            " 3   latitude              1454 non-null   object\n",
            " 4   longitude             1454 non-null   object\n",
            " 5   wilayah               1454 non-null   object\n",
            "dtypes: object(6)\n",
            "memory usage: 68.3+ KB\n"
          ]
        }
      ]
    },
    {
      "cell_type": "code",
      "source": [
        "data.isnull().sum()"
      ],
      "metadata": {
        "colab": {
          "base_uri": "https://localhost:8080/"
        },
        "id": "ydPjbYGRootz",
        "outputId": "3822ed70-29ba-4de8-ca1a-9a33cb8912f1"
      },
      "execution_count": null,
      "outputs": [
        {
          "output_type": "execute_result",
          "data": {
            "text/plain": [
              "nama_pedagang           0\n",
              "alamat_lokasi_dagang    0\n",
              "jenis_dagangan          0\n",
              "latitude                0\n",
              "longitude               0\n",
              "wilayah                 0\n",
              "dtype: int64"
            ]
          },
          "metadata": {},
          "execution_count": 4
        }
      ]
    },
    {
      "cell_type": "code",
      "source": [
        "# Ubah data kategori menjadi numerik\n",
        "le = LabelEncoder()\n",
        "data['wilayah'] = le.fit_transform(data['wilayah'])\n",
        "data['latitude'] = le.fit_transform(data['latitude'])\n",
        "data['longitude'] = le.fit_transform(data['longitude'])"
      ],
      "metadata": {
        "id": "-INEuG4cJ6iS"
      },
      "execution_count": null,
      "outputs": []
    },
    {
      "cell_type": "code",
      "source": [
        "data.info()"
      ],
      "metadata": {
        "colab": {
          "base_uri": "https://localhost:8080/"
        },
        "id": "R2U0yWSzqDgg",
        "outputId": "323510c9-e4cc-40d5-c7bf-63bedbde7829"
      },
      "execution_count": null,
      "outputs": [
        {
          "output_type": "stream",
          "name": "stdout",
          "text": [
            "<class 'pandas.core.frame.DataFrame'>\n",
            "RangeIndex: 1454 entries, 0 to 1453\n",
            "Data columns (total 6 columns):\n",
            " #   Column                Non-Null Count  Dtype \n",
            "---  ------                --------------  ----- \n",
            " 0   nama_pedagang         1454 non-null   object\n",
            " 1   alamat_lokasi_dagang  1454 non-null   object\n",
            " 2   jenis_dagangan        1454 non-null   object\n",
            " 3   latitude              1454 non-null   int64 \n",
            " 4   longitude             1454 non-null   int64 \n",
            " 5   wilayah               1454 non-null   int64 \n",
            "dtypes: int64(3), object(3)\n",
            "memory usage: 68.3+ KB\n"
          ]
        }
      ]
    },
    {
      "cell_type": "code",
      "execution_count": null,
      "metadata": {
        "id": "ZNWOHgku0hDj",
        "colab": {
          "base_uri": "https://localhost:8080/"
        },
        "outputId": "50657eb6-f142-4ff4-f81b-d9b4ac7f7a6c"
      },
      "outputs": [
        {
          "output_type": "stream",
          "name": "stdout",
          "text": [
            "Ukuran dataset: (1454, 6)\n"
          ]
        }
      ],
      "source": [
        "print(f\"Ukuran dataset: {data.shape}\")# Bagi data menjadi fitur dan target"
      ]
    },
    {
      "cell_type": "code",
      "source": [
        "X = data[['latitude', 'longitude']]\n",
        "y = data['wilayah']"
      ],
      "metadata": {
        "id": "tjWpZzempVVW"
      },
      "execution_count": null,
      "outputs": []
    },
    {
      "cell_type": "code",
      "source": [
        "# Bagi data menjadi data latih, data uji, dan data validasi\n",
        "X_train, X_temp, y_train, y_temp = train_test_split(X, y, test_size=0.2, random_state=2)\n",
        "X_test, X_val, y_test, y_val = train_test_split(X_temp, y_temp, test_size=0.75, random_state=2)"
      ],
      "metadata": {
        "id": "33DMZDKXEBrc"
      },
      "execution_count": null,
      "outputs": []
    },
    {
      "cell_type": "code",
      "source": [
        "# # Normalisasi fitur\n",
        "# normalizer = tf.keras.layers.experimental.preprocessing.Normalization()\n",
        "# normalizer.adapt(np.array(X_train))"
      ],
      "metadata": {
        "id": "t7W7lmuZED81"
      },
      "execution_count": null,
      "outputs": []
    },
    {
      "cell_type": "code",
      "source": [
        "# Membangun model\n",
        "model = tf.keras.Sequential([\n",
        "    tf.keras.layers.Dense(128, activation='linear', input_shape=(2,)),\n",
        "    tf.keras.layers.Dropout(0.2),\n",
        "    tf.keras.layers.Dense(1, activation='linear'),\n",
        "])\n",
        "model.summary()"
      ],
      "metadata": {
        "id": "Ddxf7bxFEHt8",
        "colab": {
          "base_uri": "https://localhost:8080/"
        },
        "outputId": "4e04ebbd-2017-456f-82fe-1b01cd6590fb"
      },
      "execution_count": null,
      "outputs": [
        {
          "output_type": "stream",
          "name": "stdout",
          "text": [
            "Model: \"sequential\"\n",
            "_________________________________________________________________\n",
            " Layer (type)                Output Shape              Param #   \n",
            "=================================================================\n",
            " dense (Dense)               (None, 128)               384       \n",
            "                                                                 \n",
            " dropout (Dropout)           (None, 128)               0         \n",
            "                                                                 \n",
            " dense_1 (Dense)             (None, 1)                 129       \n",
            "                                                                 \n",
            "=================================================================\n",
            "Total params: 513 (2.00 KB)\n",
            "Trainable params: 513 (2.00 KB)\n",
            "Non-trainable params: 0 (0.00 Byte)\n",
            "_________________________________________________________________\n"
          ]
        }
      ]
    },
    {
      "cell_type": "code",
      "source": [
        "# Kompilasi model\n",
        "# model.compile(optimizer='adam', loss='sparse_categorical_crossentropy', metrics=['accuracy'])\n",
        "model.compile(optimizer='adam', loss='mse', metrics=['mae'])"
      ],
      "metadata": {
        "id": "k3inbeifEtKo"
      },
      "execution_count": null,
      "outputs": []
    },
    {
      "cell_type": "code",
      "source": [
        "# Latih model dengan data training dan validasi\n",
        "history = model.fit(X_train, y_train, epochs=100, verbose=1, validation_data=(X_val, y_val))"
      ],
      "metadata": {
        "id": "lsPcMw4oEtHa",
        "colab": {
          "base_uri": "https://localhost:8080/"
        },
        "outputId": "a0de35eb-c0e5-429d-f36d-8d57aae9d6db"
      },
      "execution_count": null,
      "outputs": [
        {
          "output_type": "stream",
          "name": "stdout",
          "text": [
            "Epoch 1/100\n",
            "37/37 [==============================] - 2s 20ms/step - loss: 675.3344 - mae: 12.3554 - val_loss: 1.4463 - val_mae: 1.0254\n",
            "Epoch 2/100\n",
            "37/37 [==============================] - 0s 3ms/step - loss: 372.0399 - mae: 9.4955 - val_loss: 27.0817 - val_mae: 3.4691\n",
            "Epoch 3/100\n",
            "37/37 [==============================] - 0s 3ms/step - loss: 392.4004 - mae: 9.6895 - val_loss: 27.4248 - val_mae: 3.6483\n",
            "Epoch 4/100\n",
            "37/37 [==============================] - 0s 3ms/step - loss: 328.0144 - mae: 9.0041 - val_loss: 4.3105 - val_mae: 1.7870\n",
            "Epoch 5/100\n",
            "37/37 [==============================] - 0s 3ms/step - loss: 307.7220 - mae: 8.6920 - val_loss: 5.8627 - val_mae: 1.9837\n",
            "Epoch 6/100\n",
            "37/37 [==============================] - 0s 3ms/step - loss: 298.0979 - mae: 8.6654 - val_loss: 20.1132 - val_mae: 3.1656\n",
            "Epoch 7/100\n",
            "37/37 [==============================] - 0s 3ms/step - loss: 220.1162 - mae: 7.5203 - val_loss: 4.6490 - val_mae: 1.7559\n",
            "Epoch 8/100\n",
            "37/37 [==============================] - 0s 3ms/step - loss: 197.1853 - mae: 6.9388 - val_loss: 1.1473 - val_mae: 0.9477\n",
            "Epoch 9/100\n",
            "37/37 [==============================] - 0s 3ms/step - loss: 172.0151 - mae: 6.5990 - val_loss: 8.9885 - val_mae: 2.2640\n",
            "Epoch 10/100\n",
            "37/37 [==============================] - 0s 3ms/step - loss: 137.0763 - mae: 6.0333 - val_loss: 4.3187 - val_mae: 1.5695\n",
            "Epoch 11/100\n",
            "37/37 [==============================] - 0s 3ms/step - loss: 160.9104 - mae: 6.4596 - val_loss: 3.1867 - val_mae: 1.3334\n",
            "Epoch 12/100\n",
            "37/37 [==============================] - 0s 3ms/step - loss: 127.8927 - mae: 5.7579 - val_loss: 1.0779 - val_mae: 0.9155\n",
            "Epoch 13/100\n",
            "37/37 [==============================] - 0s 3ms/step - loss: 117.9419 - mae: 5.4915 - val_loss: 5.6606 - val_mae: 1.8642\n",
            "Epoch 14/100\n",
            "37/37 [==============================] - 0s 3ms/step - loss: 84.5918 - mae: 4.8455 - val_loss: 3.6226 - val_mae: 1.5551\n",
            "Epoch 15/100\n",
            "37/37 [==============================] - 0s 3ms/step - loss: 97.3814 - mae: 5.1316 - val_loss: 0.8624 - val_mae: 0.7679\n",
            "Epoch 16/100\n",
            "37/37 [==============================] - 0s 3ms/step - loss: 85.4701 - mae: 4.6553 - val_loss: 4.5719 - val_mae: 1.5070\n",
            "Epoch 17/100\n",
            "37/37 [==============================] - 0s 3ms/step - loss: 87.6826 - mae: 4.8463 - val_loss: 9.6279 - val_mae: 2.2912\n",
            "Epoch 18/100\n",
            "37/37 [==============================] - 0s 3ms/step - loss: 60.9017 - mae: 4.1364 - val_loss: 1.9422 - val_mae: 1.1965\n",
            "Epoch 19/100\n",
            "37/37 [==============================] - 0s 3ms/step - loss: 64.3770 - mae: 4.0513 - val_loss: 0.8893 - val_mae: 0.8331\n",
            "Epoch 20/100\n",
            "37/37 [==============================] - 0s 3ms/step - loss: 60.2378 - mae: 3.9956 - val_loss: 2.3100 - val_mae: 1.2789\n",
            "Epoch 21/100\n",
            "37/37 [==============================] - 0s 3ms/step - loss: 54.0309 - mae: 3.8732 - val_loss: 2.7640 - val_mae: 1.2852\n",
            "Epoch 22/100\n",
            "37/37 [==============================] - 0s 3ms/step - loss: 44.9356 - mae: 3.5553 - val_loss: 0.9001 - val_mae: 0.8328\n",
            "Epoch 23/100\n",
            "37/37 [==============================] - 0s 3ms/step - loss: 42.2235 - mae: 3.5166 - val_loss: 4.0271 - val_mae: 1.4618\n",
            "Epoch 24/100\n",
            "37/37 [==============================] - 0s 3ms/step - loss: 38.6089 - mae: 3.2824 - val_loss: 0.7810 - val_mae: 0.7139\n",
            "Epoch 25/100\n",
            "37/37 [==============================] - 0s 3ms/step - loss: 37.1870 - mae: 3.2398 - val_loss: 4.7944 - val_mae: 1.7071\n",
            "Epoch 26/100\n",
            "37/37 [==============================] - 0s 3ms/step - loss: 30.2812 - mae: 3.0323 - val_loss: 1.1578 - val_mae: 0.9606\n",
            "Epoch 27/100\n",
            "37/37 [==============================] - 0s 3ms/step - loss: 29.7460 - mae: 2.9675 - val_loss: 2.1680 - val_mae: 1.2781\n",
            "Epoch 28/100\n",
            "37/37 [==============================] - 0s 3ms/step - loss: 24.2961 - mae: 2.7850 - val_loss: 1.4642 - val_mae: 1.0290\n",
            "Epoch 29/100\n",
            "37/37 [==============================] - 0s 3ms/step - loss: 20.3248 - mae: 2.5719 - val_loss: 1.4122 - val_mae: 1.0559\n",
            "Epoch 30/100\n",
            "37/37 [==============================] - 0s 3ms/step - loss: 22.1482 - mae: 2.6422 - val_loss: 1.2189 - val_mae: 0.9699\n",
            "Epoch 31/100\n",
            "37/37 [==============================] - 0s 3ms/step - loss: 18.6343 - mae: 2.5099 - val_loss: 0.6870 - val_mae: 0.7030\n",
            "Epoch 32/100\n",
            "37/37 [==============================] - 0s 3ms/step - loss: 17.7187 - mae: 2.3751 - val_loss: 0.6787 - val_mae: 0.7183\n",
            "Epoch 33/100\n",
            "37/37 [==============================] - 0s 3ms/step - loss: 17.5896 - mae: 2.3215 - val_loss: 0.8291 - val_mae: 0.7835\n",
            "Epoch 34/100\n",
            "37/37 [==============================] - 0s 3ms/step - loss: 17.3723 - mae: 2.3128 - val_loss: 0.6977 - val_mae: 0.7466\n",
            "Epoch 35/100\n",
            "37/37 [==============================] - 0s 3ms/step - loss: 14.1808 - mae: 2.1005 - val_loss: 0.6496 - val_mae: 0.6881\n",
            "Epoch 36/100\n",
            "37/37 [==============================] - 0s 3ms/step - loss: 14.0358 - mae: 2.1726 - val_loss: 0.6569 - val_mae: 0.6722\n",
            "Epoch 37/100\n",
            "37/37 [==============================] - 0s 3ms/step - loss: 9.6934 - mae: 1.8752 - val_loss: 2.0919 - val_mae: 1.2406\n",
            "Epoch 38/100\n",
            "37/37 [==============================] - 0s 3ms/step - loss: 10.5149 - mae: 1.8523 - val_loss: 0.6242 - val_mae: 0.6927\n",
            "Epoch 39/100\n",
            "37/37 [==============================] - 0s 3ms/step - loss: 10.2116 - mae: 1.9079 - val_loss: 1.3564 - val_mae: 0.9763\n",
            "Epoch 40/100\n",
            "37/37 [==============================] - 0s 3ms/step - loss: 9.1928 - mae: 1.8196 - val_loss: 0.6539 - val_mae: 0.6648\n",
            "Epoch 41/100\n",
            "37/37 [==============================] - 0s 3ms/step - loss: 8.2724 - mae: 1.7191 - val_loss: 1.6989 - val_mae: 1.0424\n",
            "Epoch 42/100\n",
            "37/37 [==============================] - 0s 3ms/step - loss: 9.2575 - mae: 1.7971 - val_loss: 3.3706 - val_mae: 1.3097\n",
            "Epoch 43/100\n",
            "37/37 [==============================] - 0s 3ms/step - loss: 7.3302 - mae: 1.6396 - val_loss: 1.2779 - val_mae: 0.9786\n",
            "Epoch 44/100\n",
            "37/37 [==============================] - 0s 4ms/step - loss: 7.0063 - mae: 1.5812 - val_loss: 0.5716 - val_mae: 0.6545\n",
            "Epoch 45/100\n",
            "37/37 [==============================] - 0s 3ms/step - loss: 6.3897 - mae: 1.5468 - val_loss: 0.5601 - val_mae: 0.6478\n",
            "Epoch 46/100\n",
            "37/37 [==============================] - 0s 3ms/step - loss: 5.7148 - mae: 1.4837 - val_loss: 0.5900 - val_mae: 0.6969\n",
            "Epoch 47/100\n",
            "37/37 [==============================] - 0s 3ms/step - loss: 5.7626 - mae: 1.5077 - val_loss: 0.6478 - val_mae: 0.7347\n",
            "Epoch 48/100\n",
            "37/37 [==============================] - 0s 3ms/step - loss: 6.0405 - mae: 1.5459 - val_loss: 0.5390 - val_mae: 0.6254\n",
            "Epoch 49/100\n",
            "37/37 [==============================] - 0s 3ms/step - loss: 4.5544 - mae: 1.4170 - val_loss: 0.5335 - val_mae: 0.6510\n",
            "Epoch 50/100\n",
            "37/37 [==============================] - 0s 3ms/step - loss: 4.8937 - mae: 1.4114 - val_loss: 0.8898 - val_mae: 0.8460\n",
            "Epoch 51/100\n",
            "37/37 [==============================] - 0s 3ms/step - loss: 3.9408 - mae: 1.3312 - val_loss: 0.9683 - val_mae: 0.8596\n",
            "Epoch 52/100\n",
            "37/37 [==============================] - 0s 3ms/step - loss: 3.5422 - mae: 1.2616 - val_loss: 0.7567 - val_mae: 0.7655\n",
            "Epoch 53/100\n",
            "37/37 [==============================] - 0s 3ms/step - loss: 3.8279 - mae: 1.2813 - val_loss: 0.6303 - val_mae: 0.6772\n",
            "Epoch 54/100\n",
            "37/37 [==============================] - 0s 3ms/step - loss: 2.9201 - mae: 1.1627 - val_loss: 0.4991 - val_mae: 0.5836\n",
            "Epoch 55/100\n",
            "37/37 [==============================] - 0s 3ms/step - loss: 3.6385 - mae: 1.2740 - val_loss: 0.4939 - val_mae: 0.6215\n",
            "Epoch 56/100\n",
            "37/37 [==============================] - 0s 3ms/step - loss: 2.9303 - mae: 1.1733 - val_loss: 0.7871 - val_mae: 0.7975\n",
            "Epoch 57/100\n",
            "37/37 [==============================] - 0s 3ms/step - loss: 2.4951 - mae: 1.0824 - val_loss: 0.5389 - val_mae: 0.6152\n",
            "Epoch 58/100\n",
            "37/37 [==============================] - 0s 3ms/step - loss: 2.6798 - mae: 1.1175 - val_loss: 0.6587 - val_mae: 0.7053\n",
            "Epoch 59/100\n",
            "37/37 [==============================] - 0s 3ms/step - loss: 2.7018 - mae: 1.1246 - val_loss: 0.4625 - val_mae: 0.5831\n",
            "Epoch 60/100\n",
            "37/37 [==============================] - 0s 4ms/step - loss: 2.6165 - mae: 1.0766 - val_loss: 0.5494 - val_mae: 0.6271\n",
            "Epoch 61/100\n",
            "37/37 [==============================] - 0s 3ms/step - loss: 2.0955 - mae: 1.0391 - val_loss: 0.4545 - val_mae: 0.5847\n",
            "Epoch 62/100\n",
            "37/37 [==============================] - 0s 5ms/step - loss: 2.0648 - mae: 1.0064 - val_loss: 0.4481 - val_mae: 0.5543\n",
            "Epoch 63/100\n",
            "37/37 [==============================] - 0s 5ms/step - loss: 2.0692 - mae: 1.0106 - val_loss: 0.7095 - val_mae: 0.7357\n",
            "Epoch 64/100\n",
            "37/37 [==============================] - 0s 5ms/step - loss: 2.0034 - mae: 1.0067 - val_loss: 0.6843 - val_mae: 0.7141\n",
            "Epoch 65/100\n",
            "37/37 [==============================] - 0s 4ms/step - loss: 1.9018 - mae: 0.9618 - val_loss: 0.4300 - val_mae: 0.5547\n",
            "Epoch 66/100\n",
            "37/37 [==============================] - 0s 4ms/step - loss: 1.9173 - mae: 0.9473 - val_loss: 0.5081 - val_mae: 0.5851\n",
            "Epoch 67/100\n",
            "37/37 [==============================] - 0s 5ms/step - loss: 1.6884 - mae: 0.9333 - val_loss: 0.5091 - val_mae: 0.5893\n",
            "Epoch 68/100\n",
            "37/37 [==============================] - 0s 4ms/step - loss: 1.5553 - mae: 0.9022 - val_loss: 0.5276 - val_mae: 0.6540\n",
            "Epoch 69/100\n",
            "37/37 [==============================] - 0s 4ms/step - loss: 1.4525 - mae: 0.8637 - val_loss: 0.4901 - val_mae: 0.6337\n",
            "Epoch 70/100\n",
            "37/37 [==============================] - 0s 4ms/step - loss: 1.6130 - mae: 0.9108 - val_loss: 0.5500 - val_mae: 0.6275\n",
            "Epoch 71/100\n",
            "37/37 [==============================] - 0s 4ms/step - loss: 1.4161 - mae: 0.8485 - val_loss: 0.4122 - val_mae: 0.5078\n",
            "Epoch 72/100\n",
            "37/37 [==============================] - 0s 4ms/step - loss: 1.4086 - mae: 0.8568 - val_loss: 0.4122 - val_mae: 0.5103\n",
            "Epoch 73/100\n",
            "37/37 [==============================] - 0s 5ms/step - loss: 1.2289 - mae: 0.8299 - val_loss: 0.5790 - val_mae: 0.6465\n",
            "Epoch 74/100\n",
            "37/37 [==============================] - 0s 5ms/step - loss: 1.2253 - mae: 0.8154 - val_loss: 0.4115 - val_mae: 0.5584\n",
            "Epoch 75/100\n",
            "37/37 [==============================] - 0s 4ms/step - loss: 1.1599 - mae: 0.7976 - val_loss: 0.4368 - val_mae: 0.5136\n",
            "Epoch 76/100\n",
            "37/37 [==============================] - 0s 4ms/step - loss: 1.1202 - mae: 0.7876 - val_loss: 0.4702 - val_mae: 0.6121\n",
            "Epoch 77/100\n",
            "37/37 [==============================] - 0s 4ms/step - loss: 1.0138 - mae: 0.7526 - val_loss: 0.4673 - val_mae: 0.6113\n",
            "Epoch 78/100\n",
            "37/37 [==============================] - 0s 4ms/step - loss: 1.0285 - mae: 0.7374 - val_loss: 0.4566 - val_mae: 0.5372\n",
            "Epoch 79/100\n",
            "37/37 [==============================] - 0s 5ms/step - loss: 0.9967 - mae: 0.7446 - val_loss: 0.3742 - val_mae: 0.4902\n",
            "Epoch 80/100\n",
            "37/37 [==============================] - 0s 5ms/step - loss: 0.9416 - mae: 0.7191 - val_loss: 0.3747 - val_mae: 0.5120\n",
            "Epoch 81/100\n",
            "37/37 [==============================] - 0s 5ms/step - loss: 0.8084 - mae: 0.6806 - val_loss: 0.4141 - val_mae: 0.4833\n",
            "Epoch 82/100\n",
            "37/37 [==============================] - 0s 4ms/step - loss: 0.9417 - mae: 0.7119 - val_loss: 0.4003 - val_mae: 0.5461\n",
            "Epoch 83/100\n",
            "37/37 [==============================] - 0s 4ms/step - loss: 0.8700 - mae: 0.6847 - val_loss: 0.4144 - val_mae: 0.4956\n",
            "Epoch 84/100\n",
            "37/37 [==============================] - 0s 3ms/step - loss: 0.8213 - mae: 0.6957 - val_loss: 0.3677 - val_mae: 0.5105\n",
            "Epoch 85/100\n",
            "37/37 [==============================] - 0s 3ms/step - loss: 0.8594 - mae: 0.6864 - val_loss: 0.5738 - val_mae: 0.6264\n",
            "Epoch 86/100\n",
            "37/37 [==============================] - 0s 3ms/step - loss: 0.7162 - mae: 0.6366 - val_loss: 0.3936 - val_mae: 0.5448\n",
            "Epoch 87/100\n",
            "37/37 [==============================] - 0s 3ms/step - loss: 0.7127 - mae: 0.6270 - val_loss: 0.3644 - val_mae: 0.4418\n",
            "Epoch 88/100\n",
            "37/37 [==============================] - 0s 3ms/step - loss: 0.6599 - mae: 0.6029 - val_loss: 0.3610 - val_mae: 0.4373\n",
            "Epoch 89/100\n",
            "37/37 [==============================] - 0s 3ms/step - loss: 0.6798 - mae: 0.6100 - val_loss: 0.3772 - val_mae: 0.5232\n",
            "Epoch 90/100\n",
            "37/37 [==============================] - 0s 3ms/step - loss: 0.7226 - mae: 0.6352 - val_loss: 0.3548 - val_mae: 0.4323\n",
            "Epoch 91/100\n",
            "37/37 [==============================] - 0s 3ms/step - loss: 0.6411 - mae: 0.5932 - val_loss: 0.3529 - val_mae: 0.4316\n",
            "Epoch 92/100\n",
            "37/37 [==============================] - 0s 3ms/step - loss: 0.6650 - mae: 0.6022 - val_loss: 0.3628 - val_mae: 0.4210\n",
            "Epoch 93/100\n",
            "37/37 [==============================] - 0s 3ms/step - loss: 0.6594 - mae: 0.6022 - val_loss: 0.3828 - val_mae: 0.4480\n",
            "Epoch 94/100\n",
            "37/37 [==============================] - 0s 3ms/step - loss: 0.6600 - mae: 0.6002 - val_loss: 0.3424 - val_mae: 0.4547\n",
            "Epoch 95/100\n",
            "37/37 [==============================] - 0s 3ms/step - loss: 0.6752 - mae: 0.5993 - val_loss: 0.4394 - val_mae: 0.5619\n",
            "Epoch 96/100\n",
            "37/37 [==============================] - 0s 3ms/step - loss: 0.6335 - mae: 0.5903 - val_loss: 0.4188 - val_mae: 0.4923\n",
            "Epoch 97/100\n",
            "37/37 [==============================] - 0s 3ms/step - loss: 0.6362 - mae: 0.5830 - val_loss: 0.4597 - val_mae: 0.5747\n",
            "Epoch 98/100\n",
            "37/37 [==============================] - 0s 3ms/step - loss: 0.5750 - mae: 0.5635 - val_loss: 0.3687 - val_mae: 0.5080\n",
            "Epoch 99/100\n",
            "37/37 [==============================] - 0s 3ms/step - loss: 0.5723 - mae: 0.5678 - val_loss: 0.3760 - val_mae: 0.5161\n",
            "Epoch 100/100\n",
            "37/37 [==============================] - 0s 3ms/step - loss: 0.5651 - mae: 0.5637 - val_loss: 0.3648 - val_mae: 0.4066\n"
          ]
        }
      ]
    },
    {
      "cell_type": "code",
      "source": [
        "model.evaluate(X_test, y_test)"
      ],
      "metadata": {
        "colab": {
          "base_uri": "https://localhost:8080/"
        },
        "id": "bH8oKI-lFkeQ",
        "outputId": "be86fef5-d760-4eea-a8a4-81bbf85d3189"
      },
      "execution_count": null,
      "outputs": [
        {
          "output_type": "stream",
          "name": "stdout",
          "text": [
            "3/3 [==============================] - 0s 5ms/step - loss: 0.2700 - mae: 0.3444\n"
          ]
        },
        {
          "output_type": "execute_result",
          "data": {
            "text/plain": [
              "[0.2700134217739105, 0.34442201256752014]"
            ]
          },
          "metadata": {},
          "execution_count": 14
        }
      ]
    },
    {
      "cell_type": "code",
      "source": [
        "titik =[[-6.120574286137311, 106.90543100782145]]"
      ],
      "metadata": {
        "id": "nlvbLnnN2cGE"
      },
      "execution_count": null,
      "outputs": []
    },
    {
      "cell_type": "code",
      "source": [
        "predictions = model.predict(titik)"
      ],
      "metadata": {
        "colab": {
          "base_uri": "https://localhost:8080/"
        },
        "id": "FYrQzzbw1oDg",
        "outputId": "160184e9-ee5e-41ea-9752-56311b5c2054"
      },
      "execution_count": null,
      "outputs": [
        {
          "output_type": "stream",
          "name": "stdout",
          "text": [
            "1/1 [==============================] - 0s 101ms/step\n"
          ]
        }
      ]
    },
    {
      "cell_type": "code",
      "source": [
        "print(predictions)"
      ],
      "metadata": {
        "colab": {
          "base_uri": "https://localhost:8080/"
        },
        "id": "Y6BvRgvE2ETe",
        "outputId": "91aa45cc-1dbc-460a-d515-19d7baddcd1f"
      },
      "execution_count": null,
      "outputs": [
        {
          "output_type": "stream",
          "name": "stdout",
          "text": [
            "[[2.297505]]\n"
          ]
        }
      ]
    },
    {
      "cell_type": "code",
      "source": [
        "# # Simpan model dalam format h5\n",
        "model.save(\"model_regresi.h5\")"
      ],
      "metadata": {
        "id": "JU0ZvEkkx2oV",
        "colab": {
          "base_uri": "https://localhost:8080/"
        },
        "outputId": "50124b0c-4dae-4441-c573-2fb9d7ee089f"
      },
      "execution_count": null,
      "outputs": [
        {
          "output_type": "stream",
          "name": "stderr",
          "text": [
            "/usr/local/lib/python3.10/dist-packages/keras/src/engine/training.py:3103: UserWarning: You are saving your model as an HDF5 file via `model.save()`. This file format is considered legacy. We recommend using instead the native Keras format, e.g. `model.save('my_model.keras')`.\n",
            "  saving_api.save_model(\n"
          ]
        }
      ]
    }
  ],
  "metadata": {
    "colab": {
      "provenance": []
    },
    "kernelspec": {
      "display_name": "Python 3",
      "name": "python3"
    },
    "language_info": {
      "name": "python"
    }
  },
  "nbformat": 4,
  "nbformat_minor": 0
}